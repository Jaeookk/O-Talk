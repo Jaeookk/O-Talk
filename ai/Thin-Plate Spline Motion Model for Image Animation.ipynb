{
  "cells": [
    {
      "cell_type": "markdown",
      "metadata": {
        "id": "8fiOwFh8pYBG"
      },
      "source": [
        "# Thin-Plate Spline Motion Model for Image Animation\n",
        "\n",
        "\n",
        "<img src=\"https://github.com/yoyo-nb/Thin-Plate-Spline-Motion-Model/raw/main/assets/vox.gif\" width=\"600px\" />\n",
        "\n",
        "<img src=\"https://github.com/yoyo-nb/Thin-Plate-Spline-Motion-Model/raw/main/assets/ted.gif\" width=\"600px\" />\n",
        "\n",
        "- 코딩없이 사용하기: https://replicate.com/yoyo-nb/thin-plate-spline-motion-model\n",
        "- 원본 소스코드: https://github.com/yoyo-nb/Thin-Plate-Spline-Motion-Model"
      ]
    },
    {
      "cell_type": "markdown",
      "metadata": {
        "id": "YUGqM-U1u_Ge"
      },
      "source": [
        "## 소스코드/모델 다운로드"
      ]
    },
    {
      "cell_type": "code",
      "execution_count": null,
      "metadata": {
        "colab": {
          "base_uri": "https://localhost:8080/"
        },
        "id": "qSBnjhtjlGms",
        "outputId": "55d4ab4f-00b3-4a14-d36f-d56077befea9"
      },
      "outputs": [],
      "source": [
        "!pip install -q face_alignment imageio_ffmpeg\n",
        "!git clone https://github.com/yoyo-nb/Thin-Plate-Spline-Motion-Model.git\n",
        "%cd Thin-Plate-Spline-Motion-Model\n",
        "!mkdir checkpoints\n",
        "!wget -q -c https://cloud.tsinghua.edu.cn/f/da8d61d012014b12a9e4/?dl=1 -O checkpoints/vox.pth.tar"
      ]
    },
    {
      "cell_type": "code",
      "execution_count": null,
      "metadata": {},
      "outputs": [],
      "source": [
        "%cd Thin-Plate-Spline-Motion-Model"
      ]
    },
    {
      "cell_type": "code",
      "execution_count": null,
      "metadata": {},
      "outputs": [],
      "source": [
        "!pip install pyyaml"
      ]
    },
    {
      "cell_type": "markdown",
      "metadata": {
        "id": "1-rcBFs9keZa"
      },
      "source": [
        "## 설정\n",
        "\n",
        "<img src=\"https://user-images.githubusercontent.com/48593306/197152487-45d5198a-1e7d-4e73-8709-cf7621827d60.png\" width=\"600px\" />"
      ]
    },
    {
      "cell_type": "code",
      "execution_count": 8,
      "metadata": {
        "id": "czsWABcK_2KE"
      },
      "outputs": [
        {
          "name": "stderr",
          "output_type": "stream",
          "text": [
            "c:\\Users\\wodnr\\miniconda3\\envs\\otalk\\lib\\site-packages\\tqdm\\auto.py:22: TqdmWarning: IProgress not found. Please update jupyter and ipywidgets. See https://ipywidgets.readthedocs.io/en/stable/user_install.html\n",
            "  from .autonotebook import tqdm as notebook_tqdm\n"
          ]
        }
      ],
      "source": [
        "import torch\n",
        "\n",
        "device = 'cuda' if torch.cuda.is_available() else 'cpu'\n",
        "dataset_name = 'vox' # ['vox', 'taichi', 'ted', 'mgif'] 얼굴, 몸전체, 상반신, 말?\n",
        "config_path = 'config/vox-256.yaml' # vox 모델은 256x256으로 합성됨\n",
        "checkpoint_path = 'checkpoints/vox.pth.tar'\n",
        "predict_mode = 'relative' # ['standard', 'relative', 'avd']\n",
        "find_best_frame = True # when use the relative mode to animate a face, use 'find_best_frame=True' can get better quality result\n",
        "\n",
        "pixel = 256 # for vox, taichi and mgif, the resolution is 256*256\n",
        "if(dataset_name == 'ted'): # for ted, the resolution is 384*384\n",
        "    pixel = 384"
      ]
    },
    {
      "cell_type": "markdown",
      "metadata": {
        "id": "VzWgowH9vHeG"
      },
      "source": [
        "## 패키지/모델 로드"
      ]
    },
    {
      "cell_type": "code",
      "execution_count": 10,
      "metadata": {
        "id": "RyX8fH7sCObj"
      },
      "outputs": [],
      "source": [
        "import imageio\n",
        "import imageio_ffmpeg\n",
        "import numpy as np\n",
        "import matplotlib.pyplot as plt\n",
        "import matplotlib.animation as animation\n",
        "from skimage.transform import resize\n",
        "from IPython.display import HTML\n",
        "import warnings\n",
        "from skimage import img_as_ubyte\n",
        "\n",
        "from demo import load_checkpoints\n",
        "from demo import make_animation\n",
        "from demo import find_best_frame as _find\n",
        "\n",
        "warnings.filterwarnings(\"ignore\")\n",
        "\n",
        "inpainting, kp_detector, dense_motion_network, avd_network = load_checkpoints(config_path = config_path, checkpoint_path = checkpoint_path, device = device)"
      ]
    },
    {
      "cell_type": "markdown",
      "metadata": {
        "id": "zISzj7t5vIrI"
      },
      "source": [
        "## [옵션] 내 얼굴 녹화하기\n",
        "\n",
        "driving video"
      ]
    },
    {
      "cell_type": "code",
      "execution_count": 3,
      "metadata": {
        "colab": {
          "base_uri": "https://localhost:8080/",
          "height": 17
        },
        "id": "er13J1pNjKT0",
        "outputId": "8b1f9480-08b6-4a24-f775-5bd352244636"
      },
      "outputs": [
        {
          "data": {
            "application/javascript": "\n    async function recordVideo() {\n      const options = { mimeType: \"video/webm; codecs=vp9\" };\n      const div = document.createElement('div');\n      const capture = document.createElement('button');\n      const stopCapture = document.createElement(\"button\");\n       \n      capture.textContent = \"Start Recording\";\n      capture.style.background = \"orange\";\n      capture.style.color = \"white\";\n \n      stopCapture.textContent = \"Stop Recording\";\n      stopCapture.style.background = \"red\";\n      stopCapture.style.color = \"white\";\n      div.appendChild(capture);\n \n      const video = document.createElement('video');\n      const recordingVid = document.createElement(\"video\");\n      video.style.display = 'block';\n \n      const stream = await navigator.mediaDevices.getUserMedia({audio:true, video: {\n        facingMode: \"environment\",\n        aspectRatio: { exact: 1 }\n      }});\n     \n      let recorder = new MediaRecorder(stream, options);\n      document.body.appendChild(div);\n      div.appendChild(video);\n \n      video.srcObject = stream;\n      video.muted = true;\n \n      await video.play();\n \n      google.colab.output.setIframeHeight(document.documentElement.scrollHeight, true);\n \n      await new Promise((resolve) => {\n        capture.onclick = resolve;\n      });\n      recorder.start();\n      capture.replaceWith(stopCapture);\n \n      await new Promise((resolve) => stopCapture.onclick = resolve);\n      recorder.stop();\n      let recData = await new Promise((resolve) => recorder.ondataavailable = resolve);\n      let arrBuff = await recData.data.arrayBuffer();\n       \n      // stop the stream and remove the video element\n      stream.getVideoTracks()[0].stop();\n      div.remove();\n \n      let binaryString = \"\";\n      let bytes = new Uint8Array(arrBuff);\n      bytes.forEach((byte) => {\n        binaryString += String.fromCharCode(byte);\n      })\n    return btoa(binaryString);\n    }\n  ",
            "text/plain": [
              "<IPython.core.display.Javascript object>"
            ]
          },
          "metadata": {},
          "output_type": "display_data"
        }
      ],
      "source": [
        "#@title\n",
        "from IPython.display import display, Javascript,HTML\n",
        "from google.colab.output import eval_js\n",
        "from base64 import b64decode\n",
        " \n",
        "def record_video(filename):\n",
        "  js=Javascript(\"\"\"\n",
        "    async function recordVideo() {\n",
        "      const options = { mimeType: \"video/webm; codecs=vp9\" };\n",
        "      const div = document.createElement('div');\n",
        "      const capture = document.createElement('button');\n",
        "      const stopCapture = document.createElement(\"button\");\n",
        "       \n",
        "      capture.textContent = \"Start Recording\";\n",
        "      capture.style.background = \"orange\";\n",
        "      capture.style.color = \"white\";\n",
        " \n",
        "      stopCapture.textContent = \"Stop Recording\";\n",
        "      stopCapture.style.background = \"red\";\n",
        "      stopCapture.style.color = \"white\";\n",
        "      div.appendChild(capture);\n",
        " \n",
        "      const video = document.createElement('video');\n",
        "      const recordingVid = document.createElement(\"video\");\n",
        "      video.style.display = 'block';\n",
        " \n",
        "      const stream = await navigator.mediaDevices.getUserMedia({audio:true, video: {\n",
        "        facingMode: \"environment\",\n",
        "        aspectRatio: { exact: 1 }\n",
        "      }});\n",
        "     \n",
        "      let recorder = new MediaRecorder(stream, options);\n",
        "      document.body.appendChild(div);\n",
        "      div.appendChild(video);\n",
        " \n",
        "      video.srcObject = stream;\n",
        "      video.muted = true;\n",
        " \n",
        "      await video.play();\n",
        " \n",
        "      google.colab.output.setIframeHeight(document.documentElement.scrollHeight, true);\n",
        " \n",
        "      await new Promise((resolve) => {\n",
        "        capture.onclick = resolve;\n",
        "      });\n",
        "      recorder.start();\n",
        "      capture.replaceWith(stopCapture);\n",
        " \n",
        "      await new Promise((resolve) => stopCapture.onclick = resolve);\n",
        "      recorder.stop();\n",
        "      let recData = await new Promise((resolve) => recorder.ondataavailable = resolve);\n",
        "      let arrBuff = await recData.data.arrayBuffer();\n",
        "       \n",
        "      // stop the stream and remove the video element\n",
        "      stream.getVideoTracks()[0].stop();\n",
        "      div.remove();\n",
        " \n",
        "      let binaryString = \"\";\n",
        "      let bytes = new Uint8Array(arrBuff);\n",
        "      bytes.forEach((byte) => {\n",
        "        binaryString += String.fromCharCode(byte);\n",
        "      })\n",
        "    return btoa(binaryString);\n",
        "    }\n",
        "  \"\"\")\n",
        "  display(js)\n",
        "#   try:\n",
        "#     display(js)\n",
        "#     data=eval_js('recordVideo({})')\n",
        "#     binary=b64decode(data)\n",
        "#     with open(filename,\"wb\") as video_file:\n",
        "#       video_file.write(binary)\n",
        "#     print(f\"Finished recording video at:{filename}\")\n",
        "#   except Exception as err:\n",
        "#     print(str(err))\n",
        "\n",
        "record_video('assets/capture.mp4')"
      ]
    },
    {
      "cell_type": "markdown",
      "metadata": {
        "id": "o5Ckm0y8vdOU"
      },
      "source": [
        "## [옵션] DALL-E 2로 얼굴 생성하기\n",
        "\n",
        "source image\n",
        "\n",
        "https://labs.openai.com\n",
        "\n",
        "번역: https://papago.naver.com\n",
        "\n",
        "```\n",
        "A portrait of a black man with frontal face\n",
        "```"
      ]
    },
    {
      "cell_type": "markdown",
      "metadata": {
        "id": "85cTLvrUvKjV"
      },
      "source": [
        "## 전처리"
      ]
    },
    {
      "cell_type": "code",
      "execution_count": 11,
      "metadata": {
        "colab": {
          "base_uri": "https://localhost:8080/"
        },
        "id": "buuCZcGKARnp",
        "outputId": "f4d4d488-1ec6-4545-ee33-0d0827fdc82f"
      },
      "outputs": [
        {
          "ename": "RuntimeError",
          "evalue": "Requested MovieWriter (ffmpeg) not available",
          "output_type": "error",
          "traceback": [
            "\u001b[1;31m---------------------------------------------------------------------------\u001b[0m",
            "\u001b[1;31mRuntimeError\u001b[0m                              Traceback (most recent call last)",
            "Cell \u001b[1;32mIn[11], line 47\u001b[0m\n\u001b[0;32m     43\u001b[0m     plt\u001b[38;5;241m.\u001b[39mclose()\n\u001b[0;32m     44\u001b[0m     \u001b[38;5;28;01mreturn\u001b[39;00m ani\n\u001b[1;32m---> 47\u001b[0m HTML(\u001b[43mdisplay\u001b[49m\u001b[43m(\u001b[49m\u001b[43msource_image\u001b[49m\u001b[43m,\u001b[49m\u001b[43m \u001b[49m\u001b[43mdriving_video\u001b[49m\u001b[43m)\u001b[49m\u001b[38;5;241;43m.\u001b[39;49m\u001b[43mto_html5_video\u001b[49m\u001b[43m(\u001b[49m\u001b[43m)\u001b[49m)\n",
            "File \u001b[1;32mc:\\Users\\wodnr\\miniconda3\\envs\\otalk\\lib\\site-packages\\matplotlib\\animation.py:1263\u001b[0m, in \u001b[0;36mAnimation.to_html5_video\u001b[1;34m(self, embed_limit)\u001b[0m\n\u001b[0;32m   <a href='file:///c%3A/Users/wodnr/miniconda3/envs/otalk/lib/site-packages/matplotlib/animation.py?line=1259'>1260</a>\u001b[0m path \u001b[39m=\u001b[39m Path(tmpdir, \u001b[39m\"\u001b[39m\u001b[39mtemp.m4v\u001b[39m\u001b[39m\"\u001b[39m)\n\u001b[0;32m   <a href='file:///c%3A/Users/wodnr/miniconda3/envs/otalk/lib/site-packages/matplotlib/animation.py?line=1260'>1261</a>\u001b[0m \u001b[39m# We create a writer manually so that we can get the\u001b[39;00m\n\u001b[0;32m   <a href='file:///c%3A/Users/wodnr/miniconda3/envs/otalk/lib/site-packages/matplotlib/animation.py?line=1261'>1262</a>\u001b[0m \u001b[39m# appropriate size for the tag\u001b[39;00m\n\u001b[1;32m-> <a href='file:///c%3A/Users/wodnr/miniconda3/envs/otalk/lib/site-packages/matplotlib/animation.py?line=1262'>1263</a>\u001b[0m Writer \u001b[39m=\u001b[39m writers[mpl\u001b[39m.\u001b[39;49mrcParams[\u001b[39m'\u001b[39;49m\u001b[39manimation.writer\u001b[39;49m\u001b[39m'\u001b[39;49m]]\n\u001b[0;32m   <a href='file:///c%3A/Users/wodnr/miniconda3/envs/otalk/lib/site-packages/matplotlib/animation.py?line=1263'>1264</a>\u001b[0m writer \u001b[39m=\u001b[39m Writer(codec\u001b[39m=\u001b[39m\u001b[39m'\u001b[39m\u001b[39mh264\u001b[39m\u001b[39m'\u001b[39m,\n\u001b[0;32m   <a href='file:///c%3A/Users/wodnr/miniconda3/envs/otalk/lib/site-packages/matplotlib/animation.py?line=1264'>1265</a>\u001b[0m                 bitrate\u001b[39m=\u001b[39mmpl\u001b[39m.\u001b[39mrcParams[\u001b[39m'\u001b[39m\u001b[39manimation.bitrate\u001b[39m\u001b[39m'\u001b[39m],\n\u001b[0;32m   <a href='file:///c%3A/Users/wodnr/miniconda3/envs/otalk/lib/site-packages/matplotlib/animation.py?line=1265'>1266</a>\u001b[0m                 fps\u001b[39m=\u001b[39m\u001b[39m1000.\u001b[39m \u001b[39m/\u001b[39m \u001b[39mself\u001b[39m\u001b[39m.\u001b[39m_interval)\n\u001b[0;32m   <a href='file:///c%3A/Users/wodnr/miniconda3/envs/otalk/lib/site-packages/matplotlib/animation.py?line=1266'>1267</a>\u001b[0m \u001b[39mself\u001b[39m\u001b[39m.\u001b[39msave(\u001b[39mstr\u001b[39m(path), writer\u001b[39m=\u001b[39mwriter)\n",
            "File \u001b[1;32mc:\\Users\\wodnr\\miniconda3\\envs\\otalk\\lib\\site-packages\\matplotlib\\animation.py:148\u001b[0m, in \u001b[0;36mMovieWriterRegistry.__getitem__\u001b[1;34m(self, name)\u001b[0m\n\u001b[0;32m    <a href='file:///c%3A/Users/wodnr/miniconda3/envs/otalk/lib/site-packages/matplotlib/animation.py?line=145'>146</a>\u001b[0m \u001b[39mif\u001b[39;00m \u001b[39mself\u001b[39m\u001b[39m.\u001b[39mis_available(name):\n\u001b[0;32m    <a href='file:///c%3A/Users/wodnr/miniconda3/envs/otalk/lib/site-packages/matplotlib/animation.py?line=146'>147</a>\u001b[0m     \u001b[39mreturn\u001b[39;00m \u001b[39mself\u001b[39m\u001b[39m.\u001b[39m_registered[name]\n\u001b[1;32m--> <a href='file:///c%3A/Users/wodnr/miniconda3/envs/otalk/lib/site-packages/matplotlib/animation.py?line=147'>148</a>\u001b[0m \u001b[39mraise\u001b[39;00m \u001b[39mRuntimeError\u001b[39;00m(\u001b[39mf\u001b[39m\u001b[39m\"\u001b[39m\u001b[39mRequested MovieWriter (\u001b[39m\u001b[39m{\u001b[39;00mname\u001b[39m}\u001b[39;00m\u001b[39m) not available\u001b[39m\u001b[39m\"\u001b[39m)\n",
            "\u001b[1;31mRuntimeError\u001b[0m: Requested MovieWriter (ffmpeg) not available"
          ]
        }
      ],
      "source": [
        "source_image_path = 'assets/result.jpg'\n",
        "driving_video_path = 'assets/driving.mp4'\n",
        "\n",
        "source_image = imageio.imread(source_image_path) # 합성할 이미지\n",
        "reader = imageio.get_reader(driving_video_path)  # 원본 비디오\n",
        "\n",
        "source_image = resize(source_image, (pixel, pixel))[..., :3] # 소스이미지 리사이즈 256x256\n",
        "\n",
        "fps = reader.get_meta_data()['fps'] # 프레임 단위로 분리\n",
        "driving_video = []\n",
        "try:\n",
        "    for im in reader:\n",
        "        driving_video.append(im)\n",
        "except RuntimeError:\n",
        "    pass\n",
        "########\n",
        "# print(reader)\n",
        "# print(len(driving_video))\n",
        "# for i in reader:\n",
        "#     print(i.shape)\n",
        "#     print(type(i))\n",
        "#     break\n",
        "########\n",
        "reader.close()\n",
        "\n",
        "driving_video = [resize(frame, (pixel, pixel))[..., :3] for frame in driving_video] # driving_video 리사이즈\n",
        "\n",
        "def display(source, driving, generated=None):\n",
        "    fig = plt.figure(figsize=(8 + 4 * (generated is not None), 4))\n",
        "    fig.subplots_adjust(bottom=0, top=1, left=0, right=1)\n",
        "\n",
        "    ims = []\n",
        "    for i in range(len(driving)): # 원본 비디오에서 하나의 프레임씩\n",
        "        cols = [source]\n",
        "        cols.append(driving[i])\n",
        "        if generated is not None:\n",
        "            cols.append(generated[i])\n",
        "        im = plt.imshow(np.concatenate(cols, axis=1), animated=True)\n",
        "        plt.axis('off')\n",
        "        ims.append([im])\n",
        "\n",
        "    ani = animation.ArtistAnimation(fig, ims, interval=50, repeat_delay=1000)\n",
        "    plt.close()\n",
        "    return ani\n",
        "    \n",
        "\n",
        "HTML(display(source_image, driving_video).to_html5_video())"
      ]
    },
    {
      "cell_type": "markdown",
      "metadata": {
        "id": "JWv4K7hmvNR6"
      },
      "source": [
        "## 추론/결과보기"
      ]
    },
    {
      "cell_type": "code",
      "execution_count": null,
      "metadata": {
        "colab": {
          "base_uri": "https://localhost:8080/",
          "height": 136,
          "referenced_widgets": [
            "0c3cf9a79baf45dcaa8fba6d1c9964b1",
            "0b7628759d0641c289e66ab5f3c8db3d",
            "9d0ec4d03e084981ac37e09b219132c2",
            "1d9e87dcbc6048b093bad78cd8b8ddc2",
            "101d562a676748b0a2e0e77cd523f1f1",
            "f2db3ebdb8b34753af93d686abbc8bf4",
            "ab1218aaa5f944cd855ad51dd77fc6a7",
            "9f74d41d3ea74d3e900dc59352d156cd",
            "e2ec5db277f74fd89f40e51c2685f714",
            "fdb90cc245504ba4971954f721e12f1d",
            "149f659afbf7402aa9c443f5c3728cd3",
            "2f06275b5d47410f8ac7785e33ccd482",
            "221644cf68054070921a9c4abbf48d40",
            "52eb7dd0681d4591996267684d26fb0c",
            "cd9abc6a3db14d0a80b470b55f9e34d1",
            "b2bb2ffedb0f4961b3caa8c0efc6fd1d",
            "a5df91527adf4a18887a5d2cbb619646",
            "0bf65f1810764bad84418baac1f3583a",
            "09cf6393a91f4e5ea1dc20c21477328f",
            "f4aaa62190ab488b8fa3643fd2f5fa6a",
            "13d6763e96fe4b65b3dddf64fac84fc0",
            "ff1a279b44164312ba8c6e1ac8a84723"
          ]
        },
        "id": "o84sOb7JCSY2",
        "outputId": "9cb78982-f8e1-4e0e-c24f-6dee23f016c7"
      },
      "outputs": [
        {
          "name": "stderr",
          "output_type": "stream",
          "text": [
            "Downloading: \"https://www.adrianbulat.com/downloads/python-fan/s3fd-619a316812.pth\" to /root/.cache/torch/hub/checkpoints/s3fd-619a316812.pth\n"
          ]
        },
        {
          "data": {
            "application/vnd.jupyter.widget-view+json": {
              "model_id": "0c3cf9a79baf45dcaa8fba6d1c9964b1",
              "version_major": 2,
              "version_minor": 0
            },
            "text/plain": [
              "  0%|          | 0.00/85.7M [00:00<?, ?B/s]"
            ]
          },
          "metadata": {},
          "output_type": "display_data"
        },
        {
          "name": "stderr",
          "output_type": "stream",
          "text": [
            "Downloading: \"https://www.adrianbulat.com/downloads/python-fan/2DFAN4-cd938726ad.zip\" to /root/.cache/torch/hub/checkpoints/2DFAN4-cd938726ad.zip\n"
          ]
        },
        {
          "data": {
            "application/vnd.jupyter.widget-view+json": {
              "model_id": "2f06275b5d47410f8ac7785e33ccd482",
              "version_major": 2,
              "version_minor": 0
            },
            "text/plain": [
              "  0%|          | 0.00/91.9M [00:00<?, ?B/s]"
            ]
          },
          "metadata": {},
          "output_type": "display_data"
        },
        {
          "name": "stderr",
          "output_type": "stream",
          "text": [
            "115it [04:26,  1.79s/it]"
          ]
        }
      ],
      "source": [
        "output_video_path = 'assets/toonification_result.mp4'\n",
        "\n",
        "if predict_mode=='relative' and find_best_frame:\n",
        "    i = _find(source_image, driving_video, device=='cpu')\n",
        "    print (\"Best frame: \" + str(i))\n",
        "    driving_forward = driving_video[i:]\n",
        "    driving_backward = driving_video[:(i+1)][::-1]\n",
        "    predictions_forward = make_animation(source_image, driving_forward, inpainting, kp_detector, dense_motion_network, avd_network, device = device, mode = predict_mode)\n",
        "    predictions_backward = make_animation(source_image, driving_backward, inpainting, kp_detector, dense_motion_network, avd_network, device = device, mode = predict_mode)\n",
        "    predictions = predictions_backward[::-1] + predictions_forward[1:]\n",
        "else:\n",
        "    predictions = make_animation(source_image, driving_video, inpainting, kp_detector, dense_motion_network, avd_network, device = device, mode = predict_mode)\n",
        "\n",
        "# save result video\n",
        "imageio.mimsave(output_video_path, [img_as_ubyte(frame) for frame in predictions], fps=fps)\n",
        "\n",
        "HTML(display(source_image, driving_video, predictions).to_html5_video())"
      ]
    },
    {
      "cell_type": "code",
      "execution_count": null,
      "metadata": {
        "id": "sn-BOAmWFvNv"
      },
      "outputs": [],
      "source": []
    }
  ],
  "metadata": {
    "accelerator": "GPU",
    "colab": {
      "provenance": []
    },
    "interpreter": {
      "hash": "2809e130ef12a6f6c06b44ecb6c0a688cd1d757ce464b902998f98950eee6609"
    },
    "kernelspec": {
      "display_name": "Python 3.10.9 ('otalk')",
      "language": "python",
      "name": "python3"
    },
    "language_info": {
      "codemirror_mode": {
        "name": "ipython",
        "version": 3
      },
      "file_extension": ".py",
      "mimetype": "text/x-python",
      "name": "python",
      "nbconvert_exporter": "python",
      "pygments_lexer": "ipython3",
      "version": "3.10.9"
    },
    "widgets": {
      "application/vnd.jupyter.widget-state+json": {
        "09cf6393a91f4e5ea1dc20c21477328f": {
          "model_module": "@jupyter-widgets/base",
          "model_module_version": "1.2.0",
          "model_name": "LayoutModel",
          "state": {
            "_model_module": "@jupyter-widgets/base",
            "_model_module_version": "1.2.0",
            "_model_name": "LayoutModel",
            "_view_count": null,
            "_view_module": "@jupyter-widgets/base",
            "_view_module_version": "1.2.0",
            "_view_name": "LayoutView",
            "align_content": null,
            "align_items": null,
            "align_self": null,
            "border": null,
            "bottom": null,
            "display": null,
            "flex": null,
            "flex_flow": null,
            "grid_area": null,
            "grid_auto_columns": null,
            "grid_auto_flow": null,
            "grid_auto_rows": null,
            "grid_column": null,
            "grid_gap": null,
            "grid_row": null,
            "grid_template_areas": null,
            "grid_template_columns": null,
            "grid_template_rows": null,
            "height": null,
            "justify_content": null,
            "justify_items": null,
            "left": null,
            "margin": null,
            "max_height": null,
            "max_width": null,
            "min_height": null,
            "min_width": null,
            "object_fit": null,
            "object_position": null,
            "order": null,
            "overflow": null,
            "overflow_x": null,
            "overflow_y": null,
            "padding": null,
            "right": null,
            "top": null,
            "visibility": null,
            "width": null
          }
        },
        "0b7628759d0641c289e66ab5f3c8db3d": {
          "model_module": "@jupyter-widgets/controls",
          "model_module_version": "1.5.0",
          "model_name": "HTMLModel",
          "state": {
            "_dom_classes": [],
            "_model_module": "@jupyter-widgets/controls",
            "_model_module_version": "1.5.0",
            "_model_name": "HTMLModel",
            "_view_count": null,
            "_view_module": "@jupyter-widgets/controls",
            "_view_module_version": "1.5.0",
            "_view_name": "HTMLView",
            "description": "",
            "description_tooltip": null,
            "layout": "IPY_MODEL_f2db3ebdb8b34753af93d686abbc8bf4",
            "placeholder": "​",
            "style": "IPY_MODEL_ab1218aaa5f944cd855ad51dd77fc6a7",
            "value": "100%"
          }
        },
        "0bf65f1810764bad84418baac1f3583a": {
          "model_module": "@jupyter-widgets/controls",
          "model_module_version": "1.5.0",
          "model_name": "DescriptionStyleModel",
          "state": {
            "_model_module": "@jupyter-widgets/controls",
            "_model_module_version": "1.5.0",
            "_model_name": "DescriptionStyleModel",
            "_view_count": null,
            "_view_module": "@jupyter-widgets/base",
            "_view_module_version": "1.2.0",
            "_view_name": "StyleView",
            "description_width": ""
          }
        },
        "0c3cf9a79baf45dcaa8fba6d1c9964b1": {
          "model_module": "@jupyter-widgets/controls",
          "model_module_version": "1.5.0",
          "model_name": "HBoxModel",
          "state": {
            "_dom_classes": [],
            "_model_module": "@jupyter-widgets/controls",
            "_model_module_version": "1.5.0",
            "_model_name": "HBoxModel",
            "_view_count": null,
            "_view_module": "@jupyter-widgets/controls",
            "_view_module_version": "1.5.0",
            "_view_name": "HBoxView",
            "box_style": "",
            "children": [
              "IPY_MODEL_0b7628759d0641c289e66ab5f3c8db3d",
              "IPY_MODEL_9d0ec4d03e084981ac37e09b219132c2",
              "IPY_MODEL_1d9e87dcbc6048b093bad78cd8b8ddc2"
            ],
            "layout": "IPY_MODEL_101d562a676748b0a2e0e77cd523f1f1"
          }
        },
        "101d562a676748b0a2e0e77cd523f1f1": {
          "model_module": "@jupyter-widgets/base",
          "model_module_version": "1.2.0",
          "model_name": "LayoutModel",
          "state": {
            "_model_module": "@jupyter-widgets/base",
            "_model_module_version": "1.2.0",
            "_model_name": "LayoutModel",
            "_view_count": null,
            "_view_module": "@jupyter-widgets/base",
            "_view_module_version": "1.2.0",
            "_view_name": "LayoutView",
            "align_content": null,
            "align_items": null,
            "align_self": null,
            "border": null,
            "bottom": null,
            "display": null,
            "flex": null,
            "flex_flow": null,
            "grid_area": null,
            "grid_auto_columns": null,
            "grid_auto_flow": null,
            "grid_auto_rows": null,
            "grid_column": null,
            "grid_gap": null,
            "grid_row": null,
            "grid_template_areas": null,
            "grid_template_columns": null,
            "grid_template_rows": null,
            "height": null,
            "justify_content": null,
            "justify_items": null,
            "left": null,
            "margin": null,
            "max_height": null,
            "max_width": null,
            "min_height": null,
            "min_width": null,
            "object_fit": null,
            "object_position": null,
            "order": null,
            "overflow": null,
            "overflow_x": null,
            "overflow_y": null,
            "padding": null,
            "right": null,
            "top": null,
            "visibility": null,
            "width": null
          }
        },
        "13d6763e96fe4b65b3dddf64fac84fc0": {
          "model_module": "@jupyter-widgets/base",
          "model_module_version": "1.2.0",
          "model_name": "LayoutModel",
          "state": {
            "_model_module": "@jupyter-widgets/base",
            "_model_module_version": "1.2.0",
            "_model_name": "LayoutModel",
            "_view_count": null,
            "_view_module": "@jupyter-widgets/base",
            "_view_module_version": "1.2.0",
            "_view_name": "LayoutView",
            "align_content": null,
            "align_items": null,
            "align_self": null,
            "border": null,
            "bottom": null,
            "display": null,
            "flex": null,
            "flex_flow": null,
            "grid_area": null,
            "grid_auto_columns": null,
            "grid_auto_flow": null,
            "grid_auto_rows": null,
            "grid_column": null,
            "grid_gap": null,
            "grid_row": null,
            "grid_template_areas": null,
            "grid_template_columns": null,
            "grid_template_rows": null,
            "height": null,
            "justify_content": null,
            "justify_items": null,
            "left": null,
            "margin": null,
            "max_height": null,
            "max_width": null,
            "min_height": null,
            "min_width": null,
            "object_fit": null,
            "object_position": null,
            "order": null,
            "overflow": null,
            "overflow_x": null,
            "overflow_y": null,
            "padding": null,
            "right": null,
            "top": null,
            "visibility": null,
            "width": null
          }
        },
        "149f659afbf7402aa9c443f5c3728cd3": {
          "model_module": "@jupyter-widgets/controls",
          "model_module_version": "1.5.0",
          "model_name": "DescriptionStyleModel",
          "state": {
            "_model_module": "@jupyter-widgets/controls",
            "_model_module_version": "1.5.0",
            "_model_name": "DescriptionStyleModel",
            "_view_count": null,
            "_view_module": "@jupyter-widgets/base",
            "_view_module_version": "1.2.0",
            "_view_name": "StyleView",
            "description_width": ""
          }
        },
        "1d9e87dcbc6048b093bad78cd8b8ddc2": {
          "model_module": "@jupyter-widgets/controls",
          "model_module_version": "1.5.0",
          "model_name": "HTMLModel",
          "state": {
            "_dom_classes": [],
            "_model_module": "@jupyter-widgets/controls",
            "_model_module_version": "1.5.0",
            "_model_name": "HTMLModel",
            "_view_count": null,
            "_view_module": "@jupyter-widgets/controls",
            "_view_module_version": "1.5.0",
            "_view_name": "HTMLView",
            "description": "",
            "description_tooltip": null,
            "layout": "IPY_MODEL_fdb90cc245504ba4971954f721e12f1d",
            "placeholder": "​",
            "style": "IPY_MODEL_149f659afbf7402aa9c443f5c3728cd3",
            "value": " 85.7M/85.7M [00:06&lt;00:00, 16.4MB/s]"
          }
        },
        "221644cf68054070921a9c4abbf48d40": {
          "model_module": "@jupyter-widgets/controls",
          "model_module_version": "1.5.0",
          "model_name": "HTMLModel",
          "state": {
            "_dom_classes": [],
            "_model_module": "@jupyter-widgets/controls",
            "_model_module_version": "1.5.0",
            "_model_name": "HTMLModel",
            "_view_count": null,
            "_view_module": "@jupyter-widgets/controls",
            "_view_module_version": "1.5.0",
            "_view_name": "HTMLView",
            "description": "",
            "description_tooltip": null,
            "layout": "IPY_MODEL_a5df91527adf4a18887a5d2cbb619646",
            "placeholder": "​",
            "style": "IPY_MODEL_0bf65f1810764bad84418baac1f3583a",
            "value": "100%"
          }
        },
        "2f06275b5d47410f8ac7785e33ccd482": {
          "model_module": "@jupyter-widgets/controls",
          "model_module_version": "1.5.0",
          "model_name": "HBoxModel",
          "state": {
            "_dom_classes": [],
            "_model_module": "@jupyter-widgets/controls",
            "_model_module_version": "1.5.0",
            "_model_name": "HBoxModel",
            "_view_count": null,
            "_view_module": "@jupyter-widgets/controls",
            "_view_module_version": "1.5.0",
            "_view_name": "HBoxView",
            "box_style": "",
            "children": [
              "IPY_MODEL_221644cf68054070921a9c4abbf48d40",
              "IPY_MODEL_52eb7dd0681d4591996267684d26fb0c",
              "IPY_MODEL_cd9abc6a3db14d0a80b470b55f9e34d1"
            ],
            "layout": "IPY_MODEL_b2bb2ffedb0f4961b3caa8c0efc6fd1d"
          }
        },
        "52eb7dd0681d4591996267684d26fb0c": {
          "model_module": "@jupyter-widgets/controls",
          "model_module_version": "1.5.0",
          "model_name": "FloatProgressModel",
          "state": {
            "_dom_classes": [],
            "_model_module": "@jupyter-widgets/controls",
            "_model_module_version": "1.5.0",
            "_model_name": "FloatProgressModel",
            "_view_count": null,
            "_view_module": "@jupyter-widgets/controls",
            "_view_module_version": "1.5.0",
            "_view_name": "ProgressView",
            "bar_style": "success",
            "description": "",
            "description_tooltip": null,
            "layout": "IPY_MODEL_09cf6393a91f4e5ea1dc20c21477328f",
            "max": 96316515,
            "min": 0,
            "orientation": "horizontal",
            "style": "IPY_MODEL_f4aaa62190ab488b8fa3643fd2f5fa6a",
            "value": 96316515
          }
        },
        "9d0ec4d03e084981ac37e09b219132c2": {
          "model_module": "@jupyter-widgets/controls",
          "model_module_version": "1.5.0",
          "model_name": "FloatProgressModel",
          "state": {
            "_dom_classes": [],
            "_model_module": "@jupyter-widgets/controls",
            "_model_module_version": "1.5.0",
            "_model_name": "FloatProgressModel",
            "_view_count": null,
            "_view_module": "@jupyter-widgets/controls",
            "_view_module_version": "1.5.0",
            "_view_name": "ProgressView",
            "bar_style": "success",
            "description": "",
            "description_tooltip": null,
            "layout": "IPY_MODEL_9f74d41d3ea74d3e900dc59352d156cd",
            "max": 89843225,
            "min": 0,
            "orientation": "horizontal",
            "style": "IPY_MODEL_e2ec5db277f74fd89f40e51c2685f714",
            "value": 89843225
          }
        },
        "9f74d41d3ea74d3e900dc59352d156cd": {
          "model_module": "@jupyter-widgets/base",
          "model_module_version": "1.2.0",
          "model_name": "LayoutModel",
          "state": {
            "_model_module": "@jupyter-widgets/base",
            "_model_module_version": "1.2.0",
            "_model_name": "LayoutModel",
            "_view_count": null,
            "_view_module": "@jupyter-widgets/base",
            "_view_module_version": "1.2.0",
            "_view_name": "LayoutView",
            "align_content": null,
            "align_items": null,
            "align_self": null,
            "border": null,
            "bottom": null,
            "display": null,
            "flex": null,
            "flex_flow": null,
            "grid_area": null,
            "grid_auto_columns": null,
            "grid_auto_flow": null,
            "grid_auto_rows": null,
            "grid_column": null,
            "grid_gap": null,
            "grid_row": null,
            "grid_template_areas": null,
            "grid_template_columns": null,
            "grid_template_rows": null,
            "height": null,
            "justify_content": null,
            "justify_items": null,
            "left": null,
            "margin": null,
            "max_height": null,
            "max_width": null,
            "min_height": null,
            "min_width": null,
            "object_fit": null,
            "object_position": null,
            "order": null,
            "overflow": null,
            "overflow_x": null,
            "overflow_y": null,
            "padding": null,
            "right": null,
            "top": null,
            "visibility": null,
            "width": null
          }
        },
        "a5df91527adf4a18887a5d2cbb619646": {
          "model_module": "@jupyter-widgets/base",
          "model_module_version": "1.2.0",
          "model_name": "LayoutModel",
          "state": {
            "_model_module": "@jupyter-widgets/base",
            "_model_module_version": "1.2.0",
            "_model_name": "LayoutModel",
            "_view_count": null,
            "_view_module": "@jupyter-widgets/base",
            "_view_module_version": "1.2.0",
            "_view_name": "LayoutView",
            "align_content": null,
            "align_items": null,
            "align_self": null,
            "border": null,
            "bottom": null,
            "display": null,
            "flex": null,
            "flex_flow": null,
            "grid_area": null,
            "grid_auto_columns": null,
            "grid_auto_flow": null,
            "grid_auto_rows": null,
            "grid_column": null,
            "grid_gap": null,
            "grid_row": null,
            "grid_template_areas": null,
            "grid_template_columns": null,
            "grid_template_rows": null,
            "height": null,
            "justify_content": null,
            "justify_items": null,
            "left": null,
            "margin": null,
            "max_height": null,
            "max_width": null,
            "min_height": null,
            "min_width": null,
            "object_fit": null,
            "object_position": null,
            "order": null,
            "overflow": null,
            "overflow_x": null,
            "overflow_y": null,
            "padding": null,
            "right": null,
            "top": null,
            "visibility": null,
            "width": null
          }
        },
        "ab1218aaa5f944cd855ad51dd77fc6a7": {
          "model_module": "@jupyter-widgets/controls",
          "model_module_version": "1.5.0",
          "model_name": "DescriptionStyleModel",
          "state": {
            "_model_module": "@jupyter-widgets/controls",
            "_model_module_version": "1.5.0",
            "_model_name": "DescriptionStyleModel",
            "_view_count": null,
            "_view_module": "@jupyter-widgets/base",
            "_view_module_version": "1.2.0",
            "_view_name": "StyleView",
            "description_width": ""
          }
        },
        "b2bb2ffedb0f4961b3caa8c0efc6fd1d": {
          "model_module": "@jupyter-widgets/base",
          "model_module_version": "1.2.0",
          "model_name": "LayoutModel",
          "state": {
            "_model_module": "@jupyter-widgets/base",
            "_model_module_version": "1.2.0",
            "_model_name": "LayoutModel",
            "_view_count": null,
            "_view_module": "@jupyter-widgets/base",
            "_view_module_version": "1.2.0",
            "_view_name": "LayoutView",
            "align_content": null,
            "align_items": null,
            "align_self": null,
            "border": null,
            "bottom": null,
            "display": null,
            "flex": null,
            "flex_flow": null,
            "grid_area": null,
            "grid_auto_columns": null,
            "grid_auto_flow": null,
            "grid_auto_rows": null,
            "grid_column": null,
            "grid_gap": null,
            "grid_row": null,
            "grid_template_areas": null,
            "grid_template_columns": null,
            "grid_template_rows": null,
            "height": null,
            "justify_content": null,
            "justify_items": null,
            "left": null,
            "margin": null,
            "max_height": null,
            "max_width": null,
            "min_height": null,
            "min_width": null,
            "object_fit": null,
            "object_position": null,
            "order": null,
            "overflow": null,
            "overflow_x": null,
            "overflow_y": null,
            "padding": null,
            "right": null,
            "top": null,
            "visibility": null,
            "width": null
          }
        },
        "cd9abc6a3db14d0a80b470b55f9e34d1": {
          "model_module": "@jupyter-widgets/controls",
          "model_module_version": "1.5.0",
          "model_name": "HTMLModel",
          "state": {
            "_dom_classes": [],
            "_model_module": "@jupyter-widgets/controls",
            "_model_module_version": "1.5.0",
            "_model_name": "HTMLModel",
            "_view_count": null,
            "_view_module": "@jupyter-widgets/controls",
            "_view_module_version": "1.5.0",
            "_view_name": "HTMLView",
            "description": "",
            "description_tooltip": null,
            "layout": "IPY_MODEL_13d6763e96fe4b65b3dddf64fac84fc0",
            "placeholder": "​",
            "style": "IPY_MODEL_ff1a279b44164312ba8c6e1ac8a84723",
            "value": " 91.9M/91.9M [00:06&lt;00:00, 19.4MB/s]"
          }
        },
        "e2ec5db277f74fd89f40e51c2685f714": {
          "model_module": "@jupyter-widgets/controls",
          "model_module_version": "1.5.0",
          "model_name": "ProgressStyleModel",
          "state": {
            "_model_module": "@jupyter-widgets/controls",
            "_model_module_version": "1.5.0",
            "_model_name": "ProgressStyleModel",
            "_view_count": null,
            "_view_module": "@jupyter-widgets/base",
            "_view_module_version": "1.2.0",
            "_view_name": "StyleView",
            "bar_color": null,
            "description_width": ""
          }
        },
        "f2db3ebdb8b34753af93d686abbc8bf4": {
          "model_module": "@jupyter-widgets/base",
          "model_module_version": "1.2.0",
          "model_name": "LayoutModel",
          "state": {
            "_model_module": "@jupyter-widgets/base",
            "_model_module_version": "1.2.0",
            "_model_name": "LayoutModel",
            "_view_count": null,
            "_view_module": "@jupyter-widgets/base",
            "_view_module_version": "1.2.0",
            "_view_name": "LayoutView",
            "align_content": null,
            "align_items": null,
            "align_self": null,
            "border": null,
            "bottom": null,
            "display": null,
            "flex": null,
            "flex_flow": null,
            "grid_area": null,
            "grid_auto_columns": null,
            "grid_auto_flow": null,
            "grid_auto_rows": null,
            "grid_column": null,
            "grid_gap": null,
            "grid_row": null,
            "grid_template_areas": null,
            "grid_template_columns": null,
            "grid_template_rows": null,
            "height": null,
            "justify_content": null,
            "justify_items": null,
            "left": null,
            "margin": null,
            "max_height": null,
            "max_width": null,
            "min_height": null,
            "min_width": null,
            "object_fit": null,
            "object_position": null,
            "order": null,
            "overflow": null,
            "overflow_x": null,
            "overflow_y": null,
            "padding": null,
            "right": null,
            "top": null,
            "visibility": null,
            "width": null
          }
        },
        "f4aaa62190ab488b8fa3643fd2f5fa6a": {
          "model_module": "@jupyter-widgets/controls",
          "model_module_version": "1.5.0",
          "model_name": "ProgressStyleModel",
          "state": {
            "_model_module": "@jupyter-widgets/controls",
            "_model_module_version": "1.5.0",
            "_model_name": "ProgressStyleModel",
            "_view_count": null,
            "_view_module": "@jupyter-widgets/base",
            "_view_module_version": "1.2.0",
            "_view_name": "StyleView",
            "bar_color": null,
            "description_width": ""
          }
        },
        "fdb90cc245504ba4971954f721e12f1d": {
          "model_module": "@jupyter-widgets/base",
          "model_module_version": "1.2.0",
          "model_name": "LayoutModel",
          "state": {
            "_model_module": "@jupyter-widgets/base",
            "_model_module_version": "1.2.0",
            "_model_name": "LayoutModel",
            "_view_count": null,
            "_view_module": "@jupyter-widgets/base",
            "_view_module_version": "1.2.0",
            "_view_name": "LayoutView",
            "align_content": null,
            "align_items": null,
            "align_self": null,
            "border": null,
            "bottom": null,
            "display": null,
            "flex": null,
            "flex_flow": null,
            "grid_area": null,
            "grid_auto_columns": null,
            "grid_auto_flow": null,
            "grid_auto_rows": null,
            "grid_column": null,
            "grid_gap": null,
            "grid_row": null,
            "grid_template_areas": null,
            "grid_template_columns": null,
            "grid_template_rows": null,
            "height": null,
            "justify_content": null,
            "justify_items": null,
            "left": null,
            "margin": null,
            "max_height": null,
            "max_width": null,
            "min_height": null,
            "min_width": null,
            "object_fit": null,
            "object_position": null,
            "order": null,
            "overflow": null,
            "overflow_x": null,
            "overflow_y": null,
            "padding": null,
            "right": null,
            "top": null,
            "visibility": null,
            "width": null
          }
        },
        "ff1a279b44164312ba8c6e1ac8a84723": {
          "model_module": "@jupyter-widgets/controls",
          "model_module_version": "1.5.0",
          "model_name": "DescriptionStyleModel",
          "state": {
            "_model_module": "@jupyter-widgets/controls",
            "_model_module_version": "1.5.0",
            "_model_name": "DescriptionStyleModel",
            "_view_count": null,
            "_view_module": "@jupyter-widgets/base",
            "_view_module_version": "1.2.0",
            "_view_name": "StyleView",
            "description_width": ""
          }
        }
      }
    }
  },
  "nbformat": 4,
  "nbformat_minor": 0
}
